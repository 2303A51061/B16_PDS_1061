{
  "nbformat": 4,
  "nbformat_minor": 0,
  "metadata": {
    "colab": {
      "provenance": [],
      "authorship_tag": "ABX9TyP/ikUHOs6y78yUDHJWWLGK",
      "include_colab_link": true
    },
    "kernelspec": {
      "name": "python3",
      "display_name": "Python 3"
    },
    "language_info": {
      "name": "python"
    }
  },
  "cells": [
    {
      "cell_type": "markdown",
      "metadata": {
        "id": "view-in-github",
        "colab_type": "text"
      },
      "source": [
        "<a href=\"https://colab.research.google.com/github/2303A51061/B16_PDS_1061/blob/main/File_Handling.ipynb\" target=\"_parent\"><img src=\"https://colab.research.google.com/assets/colab-badge.svg\" alt=\"Open In Colab\"/></a>"
      ]
    },
    {
      "cell_type": "code",
      "execution_count": 18,
      "metadata": {
        "id": "kdDKmUBvVtwd"
      },
      "outputs": [],
      "source": [
        "file=open(\"example.txt\",\"w\")\n",
        "file.write(\"Hello,B.Tech Student\\n\")\n",
        "file.write(\"this is file handling in python\\n\")\n",
        "file.write(\"sr university\\n\")\n",
        "file.write(\"iam \")\n",
        "file.close()"
      ]
    },
    {
      "cell_type": "code",
      "source": [
        "file=open(\"example.txt\",\"r\")\n",
        "content=file.read()\n",
        "print(\"file content:\\n\",content)\n",
        "file.close()"
      ],
      "metadata": {
        "colab": {
          "base_uri": "https://localhost:8080/"
        },
        "id": "AWCxtEJ8X0N8",
        "outputId": "539bc6e0-e4de-4a52-fef4-a8d6cc64e84a"
      },
      "execution_count": 19,
      "outputs": [
        {
          "output_type": "stream",
          "name": "stdout",
          "text": [
            "file content:\n",
            " Hello,B.Tech Student\n",
            "this is file handling in python\n",
            "sr university\n",
            "iam \n"
          ]
        }
      ]
    },
    {
      "cell_type": "code",
      "source": [
        "file=open(\"example.txt\",\"r\")\n",
        "line1=file.readline()\n",
        "print(\"first Line:\",line1)\n",
        "line2=file.readline()\n",
        "print(\"second Line:\",line2)\n",
        "line3=file.readline()\n",
        "print(\"third Line:\",line3)\n",
        "line4=file.readline()\n",
        "print(\"fourth Line:\",line4)\n",
        "\n",
        "file.close()"
      ],
      "metadata": {
        "colab": {
          "base_uri": "https://localhost:8080/"
        },
        "id": "30-tMi4QYzlm",
        "outputId": "2ad648e5-68eb-4737-c983-ebd344eafce2"
      },
      "execution_count": 20,
      "outputs": [
        {
          "output_type": "stream",
          "name": "stdout",
          "text": [
            "first Line: Hello,B.Tech Student\n",
            "\n",
            "second Line: this is file handling in python\n",
            "\n",
            "third Line: sr university\n",
            "\n",
            "fourth Line: iam \n"
          ]
        }
      ]
    },
    {
      "cell_type": "code",
      "source": [
        "file=open(\"example.txt\",\"r\")\n",
        "lines=file.readlines()\n",
        "print(\"all lines as list:\",lines)\n",
        "file.close()"
      ],
      "metadata": {
        "colab": {
          "base_uri": "https://localhost:8080/"
        },
        "id": "Vhd0oR9QairW",
        "outputId": "dde04171-d2f7-49d5-c6f0-4d11d832f1bb"
      },
      "execution_count": 21,
      "outputs": [
        {
          "output_type": "stream",
          "name": "stdout",
          "text": [
            "all lines as list: ['Hello,B.Tech Student\\n', 'this is file handling in python\\n', 'sr university\\n', 'iam ']\n"
          ]
        }
      ]
    },
    {
      "cell_type": "code",
      "source": [
        "file=open(\"example.txt\",\"a\")\n",
        "file.write(\"iam appending this line\\n\")\n",
        "file.close()"
      ],
      "metadata": {
        "id": "BZnI29UcbZrU"
      },
      "execution_count": 27,
      "outputs": []
    },
    {
      "cell_type": "code",
      "source": [
        "with open(\"example.txt\",\"r\") as file:\n",
        "    content=file.read()\n",
        "    print(content)"
      ],
      "metadata": {
        "colab": {
          "base_uri": "https://localhost:8080/"
        },
        "id": "9Gx1cAHIcFk_",
        "outputId": "6c629fea-1f75-4c5b-f67c-5bdae0fec27c"
      },
      "execution_count": 28,
      "outputs": [
        {
          "output_type": "stream",
          "name": "stdout",
          "text": [
            "Hello,B.Tech Student\n",
            "this is file handling in python\n",
            "sr university\n",
            "iam iam appending this line\n",
            "iam appending this line\n",
            "iam appending this line\n",
            "iam appending this line\n",
            "\n"
          ]
        }
      ]
    },
    {
      "cell_type": "code",
      "source": [
        "import csv\n",
        "with open(\"example.csv\",\"w\",newline=\"\") as file:\n",
        "    writer=csv.writer(file)\n",
        "    writer.writerow([\"Name\",\"Age\",\"City\"])\n",
        "    writer.writerow([\"John\",25,\"New York\"])\n",
        "    writer.writerow([\"pavan\",35,\"York\"])\n",
        "    writer.writerow([\"praveen\",18,\"New\"])\n",
        "    writer.writerow([\"bhbj\",25,\"New kjbhvbgYork\"])"
      ],
      "metadata": {
        "id": "O48L2UCrcTob"
      },
      "execution_count": 30,
      "outputs": []
    },
    {
      "cell_type": "code",
      "source": [
        "with open(\"example.csv\",\"r\") as file:\n",
        "    reader=csv.reader(file)\n",
        "    for row in reader:\n",
        "        print(row)"
      ],
      "metadata": {
        "colab": {
          "base_uri": "https://localhost:8080/"
        },
        "id": "TO9u1KStdMSm",
        "outputId": "461f44f8-acf9-47fb-b744-63c6e4077ed0"
      },
      "execution_count": 31,
      "outputs": [
        {
          "output_type": "stream",
          "name": "stdout",
          "text": [
            "['Name', 'Age', 'City']\n",
            "['John', '25', 'New York']\n",
            "['pavan', '35', 'York']\n",
            "['praveen', '18', 'New']\n",
            "['bhbj', '25', 'New kjbhvbgYork']\n"
          ]
        }
      ]
    }
  ]
}