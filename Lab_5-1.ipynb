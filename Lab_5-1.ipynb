{
  "nbformat": 4,
  "nbformat_minor": 0,
  "metadata": {
    "colab": {
      "provenance": [],
      "authorship_tag": "ABX9TyPp3VUl4cNBk8DGvdJtUXQR",
      "include_colab_link": true
    },
    "kernelspec": {
      "name": "python3",
      "display_name": "Python 3"
    },
    "language_info": {
      "name": "python"
    }
  },
  "cells": [
    {
      "cell_type": "markdown",
      "metadata": {
        "id": "view-in-github",
        "colab_type": "text"
      },
      "source": [
        "<a href=\"https://colab.research.google.com/github/2303A51061/B16_PDS_1061/blob/main/Lab_5-1.ipynb\" target=\"_parent\"><img src=\"https://colab.research.google.com/assets/colab-badge.svg\" alt=\"Open In Colab\"/></a>"
      ]
    },
    {
      "cell_type": "code",
      "execution_count": 11,
      "metadata": {
        "colab": {
          "base_uri": "https://localhost:8080/"
        },
        "id": "Pt2ZwIJruczX",
        "outputId": "70f68d7c-3439-4fe7-ac3c-a8fc7f27eaf8"
      },
      "outputs": [
        {
          "output_type": "stream",
          "name": "stdout",
          "text": [
            "original Dataset\n",
            "    Name   Age  Marks\n",
            "0   Ravi  25.0   85.0\n",
            "1   Neha   NaN   90.0\n",
            "2  Kiran  30.0    NaN\n",
            "3   Sita  28.0   92.0\n",
            "\n",
            " check for missing values\n",
            "    Name    Age  Marks\n",
            "0  False  False  False\n",
            "1  False   True  False\n",
            "2  False  False   True\n",
            "3  False  False  False\n"
          ]
        }
      ],
      "source": [
        "import numpy as np\n",
        "import pandas as pd\n",
        "#creating a dataset with missing values\n",
        "data={\n",
        "    'Name':['Ravi','Neha','Kiran','Sita'],\n",
        "    'Age':[25,np.nan,30,28],\n",
        "    'Marks':[85,90,np.nan,92]\n",
        "}\n",
        "df=pd.DataFrame(data)\n",
        "print(\"original Dataset\")\n",
        "print(df)\n",
        "#detect missing values\n",
        "print(\"\\n check for missing values\")\n",
        "print(df.isnull())"
      ]
    },
    {
      "cell_type": "code",
      "source": [
        "#drop rows with missing values\n",
        "df_dropped=df.dropna()\n",
        "print(\"After dropping rows with nan\")\n",
        "print(df_dropped)"
      ],
      "metadata": {
        "colab": {
          "base_uri": "https://localhost:8080/"
        },
        "id": "syzW5320v7jz",
        "outputId": "838bdf73-5112-4a1c-85e5-a0521e32b5b7"
      },
      "execution_count": 12,
      "outputs": [
        {
          "output_type": "stream",
          "name": "stdout",
          "text": [
            "After dropping rows with nan\n",
            "   Name   Age  Marks\n",
            "0  Ravi  25.0   85.0\n",
            "3  Sita  28.0   92.0\n"
          ]
        }
      ]
    },
    {
      "cell_type": "code",
      "source": [
        "#filling missing values\n",
        "df_filled=df.fillna(0)\n",
        "print(\"Filled with 0.\")\n",
        "print(df_filled)\n",
        "#filling missing with mean of column\n",
        "df['Age']=df['Age'].fillna(df['Age'].mean())\n",
        "df['Marks']=df['Marks'].fillna(df['Marks'].mean())\n",
        "print(\"\\n filled with mean\")\n",
        "print(df)"
      ],
      "metadata": {
        "colab": {
          "base_uri": "https://localhost:8080/"
        },
        "id": "0C6G8w9Hwq8P",
        "outputId": "6c589e92-35e1-4844-ce6e-1e91d0564b9c"
      },
      "execution_count": 13,
      "outputs": [
        {
          "output_type": "stream",
          "name": "stdout",
          "text": [
            "Filled with 0.\n",
            "    Name   Age  Marks\n",
            "0   Ravi  25.0   85.0\n",
            "1   Neha   0.0   90.0\n",
            "2  Kiran  30.0    0.0\n",
            "3   Sita  28.0   92.0\n",
            "\n",
            " filled with mean\n",
            "    Name        Age  Marks\n",
            "0   Ravi  25.000000   85.0\n",
            "1   Neha  27.666667   90.0\n",
            "2  Kiran  30.000000   89.0\n",
            "3   Sita  28.000000   92.0\n"
          ]
        }
      ]
    },
    {
      "cell_type": "code",
      "source": [
        "#handling duplicate\n",
        "data={\n",
        "    'ID':[1,2,3,4,4],\n",
        "\n",
        "    'Marks':[85,90,78,92,92]\n",
        "\n",
        "}\n",
        "df=pd.DataFrame(data)\n",
        "print(\"Original dataFrame with Duplicates\")\n",
        "print(df)\n",
        "#remove duplicates rows\n",
        "df_no_dup=df.drop_duplicates()\n",
        "print(\"\\n After Removing Duplicates\")\n",
        "print(df_no_dup)"
      ],
      "metadata": {
        "colab": {
          "base_uri": "https://localhost:8080/"
        },
        "id": "gmxEgaVVy__G",
        "outputId": "201a5798-fa83-481f-ae01-5bd279d57fbd"
      },
      "execution_count": 17,
      "outputs": [
        {
          "output_type": "stream",
          "name": "stdout",
          "text": [
            "Original dataFrame with Duplicates\n",
            "   ID  Marks\n",
            "0   1     85\n",
            "1   2     90\n",
            "2   3     78\n",
            "3   4     92\n",
            "4   4     92\n",
            "\n",
            " After Removing Duplicates\n",
            "   ID  Marks\n",
            "0   1     85\n",
            "1   2     90\n",
            "2   3     78\n",
            "3   4     92\n"
          ]
        }
      ]
    },
    {
      "cell_type": "code",
      "source": [
        "data={\n",
        "    'ID':['1','2','3','4'],\n",
        "    'Marks':['85','90','78','92']\n",
        "}\n",
        "df=pd.DataFrame(data)\n",
        "print(\"Original Data Types\")\n",
        "print(df.dtypes)\n",
        "#convert to numeric\n",
        "df['ID']=pd.to_numeric(df['ID'])\n",
        "df['Marks']=pd.to_numeric(df['Marks'])\n",
        "print(\"\\n After conversion\")\n",
        "print(df.dtypes)"
      ],
      "metadata": {
        "colab": {
          "base_uri": "https://localhost:8080/"
        },
        "id": "x3jWZf8-1Lfu",
        "outputId": "d0be3da0-b879-4361-fab8-924ee1150a73"
      },
      "execution_count": 19,
      "outputs": [
        {
          "output_type": "stream",
          "name": "stdout",
          "text": [
            "Original Data Types\n",
            "ID       object\n",
            "Marks    object\n",
            "dtype: object\n",
            "\n",
            " After conversion\n",
            "ID       int64\n",
            "Marks    int64\n",
            "dtype: object\n"
          ]
        }
      ]
    },
    {
      "cell_type": "code",
      "source": [
        "#applying functions\n",
        "#apply transformation -add 5 bonus marks\n",
        "df['Marks']=df['Marks'].apply(lambda x: x+5)\n",
        "print(\"\\n After Adding bonus marks\")\n",
        "print(df)"
      ],
      "metadata": {
        "colab": {
          "base_uri": "https://localhost:8080/"
        },
        "id": "1yT6Q6193mTY",
        "outputId": "6cee53bf-51bd-4462-bffd-06437bcf1168"
      },
      "execution_count": 40,
      "outputs": [
        {
          "output_type": "stream",
          "name": "stdout",
          "text": [
            "\n",
            " After Adding bonus marks\n",
            "   ID  Marks  Marks_Normalized\n",
            "0   1    185          0.500000\n",
            "1   2    190          0.857143\n",
            "2   3    178          0.000000\n",
            "3   4    192          1.000000\n"
          ]
        }
      ]
    },
    {
      "cell_type": "code",
      "source": [
        "#normalization\n",
        "df['Marks_Normalized']=(df['Marks']-df['Marks'].min())/(df['Marks'].max()-df['Marks'].min())\n",
        "print(\"\\n After Normalization\")\n",
        "print(df)"
      ],
      "metadata": {
        "colab": {
          "base_uri": "https://localhost:8080/"
        },
        "id": "SYRyTDON4tXJ",
        "outputId": "04f09da2-8763-4097-97d4-e716ce410d8c"
      },
      "execution_count": 21,
      "outputs": [
        {
          "output_type": "stream",
          "name": "stdout",
          "text": [
            "\n",
            " After Normalization\n",
            "   ID  Marks  Marks_Normalized\n",
            "0   1     90          0.500000\n",
            "1   2     95          0.857143\n",
            "2   3     83          0.000000\n",
            "3   4     97          1.000000\n"
          ]
        }
      ]
    }
  ]
}